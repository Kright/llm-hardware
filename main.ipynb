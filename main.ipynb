{
 "cells": [
  {
   "cell_type": "code",
   "execution_count": 21,
   "metadata": {},
   "outputs": [],
   "source": [
    "from collections import defaultdict\n",
    "import pandas as pd\n",
    "import json\n",
    "\n",
    "prompts, names, runs, scores = {}, {}, [], defaultdict(lambda: defaultdict(int))\n",
    "\n",
    "with open(\"main.json.log\", \"r\") as file:\n",
    "    for line in file:\n",
    "        item = json.loads(line)\n",
    "\n",
    "        if item[\"type\"] == \"entity\":\n",
    "            names[item[\"key\"]] = item[\"name\"]\n",
    "        elif item[\"type\"] == \"prompt\":\n",
    "            prompts[item[\"prompt_id\"]] = item\n",
    "        elif item[\"type\"] == \"score\":\n",
    "            scores[item[\"model\"]][item[\"score\"]] += 1\n",
    "        elif item[\"type\"] == \"run\" and \"result\" in item:\n",
    "            result = item[\"result\"]\n",
    "            item[\"text\"] = (result[\"choices\"][0] if \"choices\" in result else result)[\"message\"][\"content\"]\n",
    "            item[\"len\"] = len(item[\"text\"]) + len(prompts[item[\"prompt_id\"]][\"prompt\"])\n",
    "            item[\"runner\"] = \"rtx-5090\" if item[\"runner\"].startswith(\"rtx-5090\") else item[\"runner\"]\n",
    "            runs.append(item)\n",
    "\n",
    "ok_models = set([model for model, verdicts in scores.items() if verdicts['ok'] / (verdicts['ok'] + verdicts['trash']) >= 0.95])\n",
    "runs = [run for run in runs if run[\"model\"] in ok_models]\n",
    "\n",
    "df = pd.DataFrame(runs)"
   ]
  },
  {
   "cell_type": "code",
   "execution_count": null,
   "metadata": {},
   "outputs": [],
   "source": [
    "df[\"metric\"] = df[\"len\"] / df[\"elapsed_time\"]\n",
    "\n",
    "df_std = df.groupby([\"runner\", \"model\"])[\"metric\"].agg([\"median\", \"std\", \"count\"])\n",
    "df_std[\"combined\"] = df_std.apply(lambda row: f\"{row['median']:.0f}{'*' if row['std'] / row['median'] > 0.5 else ''}{'*' if row['count'] < 40 else ''}\", axis=1)\n",
    "table = df_std.reset_index().pivot(index=\"runner\", columns=\"model\", values=\"combined\")\n",
    "\n",
    "table.index.name = None\n",
    "table.columns.name = None\n",
    "name_order = list(names.keys())\n",
    "\n",
    "def sort_key(value):\n",
    "    return name_order.index(value) if value in name_order else float('inf')\n",
    "\n",
    "table = table.loc[sorted(table.index, key=sort_key)]\n",
    "table = table[sorted(table.columns, key=sort_key)]\n",
    "\n",
    "table.index = table.index.map(lambda x: names.get(x, x))\n",
    "table.columns = table.columns.map(lambda x: names.get(x, x))\n",
    "\n",
    "table = table.applymap(lambda x: x if pd.notna(x) else \"\")\n",
    "\n",
    "print(table.to_markdown())"
   ]
  }
 ],
 "metadata": {
  "kernelspec": {
   "display_name": "Python 3",
   "language": "python",
   "name": "python3"
  },
  "language_info": {
   "codemirror_mode": {
    "name": "ipython",
    "version": 3
   },
   "file_extension": ".py",
   "mimetype": "text/x-python",
   "name": "python",
   "nbconvert_exporter": "python",
   "pygments_lexer": "ipython3",
   "version": "3.11.9"
  }
 },
 "nbformat": 4,
 "nbformat_minor": 2
}
