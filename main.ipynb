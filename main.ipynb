{
 "cells": [
  {
   "cell_type": "code",
   "execution_count": null,
   "metadata": {},
   "outputs": [],
   "source": [
    "from collections import defaultdict\n",
    "import json\n",
    "\n",
    "with open(\"in-prompts.json\", \"r\") as file:\n",
    "    tasks = list(enumerate(json.load(file)))\n",
    "\n",
    "with open(\"out-results.json.log\", \"r\") as file:\n",
    "    results = []\n",
    "\n",
    "    for line in file:\n",
    "        results.append(json.loads(line))\n",
    "\n",
    "counts = defaultdict(lambda:defaultdict(int))\n",
    "times = defaultdict(lambda:defaultdict(int))\n",
    "\n",
    "for result in results:\n",
    "    counts[result.get(\"runner\", \"unknown\")][result.get(\"model\", \"not-a-model\")] += 1\n",
    "    times[result.get(\"runner\", \"unknown\")][result.get(\"model\", \"not-a-model\")] += result.get(\"elapsed_time\", 0)\n",
    "\n",
    "print(json.dumps({\"counts\": counts, \"times\": times}, ensure_ascii=False, indent=2))"
   ]
  }
 ],
 "metadata": {
  "language_info": {
   "name": "python"
  }
 },
 "nbformat": 4,
 "nbformat_minor": 2
}
