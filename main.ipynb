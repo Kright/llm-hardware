{
 "cells": [
  {
   "cell_type": "code",
   "execution_count": 3,
   "metadata": {},
   "outputs": [],
   "source": [
    "import pandas as pd\n",
    "import json\n",
    "\n",
    "prompts, names, runs = {}, {}, []\n",
    "\n",
    "with open(\"main.json.log\", \"r\") as file:\n",
    "    for line in file:\n",
    "        item = json.loads(line)\n",
    "\n",
    "        if item[\"type\"] == \"entity\":\n",
    "            names[item[\"key\"]] = item[\"name\"]\n",
    "        elif item[\"type\"] == \"prompt\":\n",
    "            prompts[item[\"prompt_id\"]] = item\n",
    "        elif item[\"type\"] == \"run\" and \"result\" in item:\n",
    "            result = item[\"result\"]\n",
    "            item[\"text\"] = (result[\"choices\"][0] if \"choices\" in result else result)[\"message\"][\"content\"]\n",
    "            item[\"len\"] = len(item[\"text\"]) + len(prompts[item[\"prompt_id\"]][\"prompt\"])\n",
    "            runs.append(item)\n",
    "\n",
    "df = pd.DataFrame(runs)"
   ]
  },
  {
   "cell_type": "code",
   "execution_count": null,
   "metadata": {},
   "outputs": [],
   "source": [
    "df[\"metric\"] = df[\"len\"] / df[\"elapsed_time\"]\n",
    "\n",
    "table = df.groupby([\"runner\", \"model\"])[\"metric\"].median().reset_index() \\\n",
    "    .pivot(index=\"model\", columns=\"runner\", values=\"metric\")\n",
    "\n",
    "table.index.name = None\n",
    "table.columns.name = None\n",
    "name_order = list(names.keys())\n",
    "\n",
    "def sort_key(value):\n",
    "    return name_order.index(value) if value in name_order else float('inf')\n",
    "\n",
    "table = table.loc[sorted(table.index, key=sort_key)]\n",
    "table = table[sorted(table.columns, key=sort_key)]\n",
    "table.index = table.index.map(lambda x: names.get(x, x))\n",
    "table.columns = table.columns.map(lambda x: names.get(x, x))\n",
    "table = table.applymap(lambda x: int(x) if pd.notna(x) else \"\")\n",
    "\n",
    "table"
   ]
  }
 ],
 "metadata": {
  "kernelspec": {
   "display_name": "Python 3",
   "language": "python",
   "name": "python3"
  },
  "language_info": {
   "name": "python",
   "version": "3.11.9"
  }
 },
 "nbformat": 4,
 "nbformat_minor": 2
}
